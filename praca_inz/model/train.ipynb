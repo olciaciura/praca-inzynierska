{
 "cells": [
  {
   "cell_type": "code",
   "execution_count": 1,
   "metadata": {},
   "outputs": [],
   "source": [
    "import json\n",
    "import math\n",
    "import torch\n",
    "from torchvision.models.detection import fasterrcnn_resnet50_fpn as faster_rcnn\n",
    "import torchvision.models.detection as d\n",
    "from torchvision import transforms\n",
    "from PIL import Image\n",
    "import os\n",
    "from torch.optim import Adam\n",
    "import numpy as np\n",
    "from torch.utils.data import Dataset, DataLoader\n",
    "import pickle"
   ]
  },
  {
   "cell_type": "code",
   "execution_count": 2,
   "metadata": {},
   "outputs": [
    {
     "data": {
      "text/plain": [
       "{'id': 28,\n",
       " 'annotations': [{'id': 162,\n",
       "   'completed_by': 1,\n",
       "   'result': [{'original_width': 47,\n",
       "     'original_height': 50,\n",
       "     'image_rotation': 0,\n",
       "     'value': {'x': 28.528270545319657,\n",
       "      'y': 12.97576176416152,\n",
       "      'width': 47.85387317279425,\n",
       "      'height': 22.491320391213307,\n",
       "      'rotation': 0,\n",
       "      'rectanglelabels': ['Airplane']},\n",
       "     'id': 'PPivq2L9kh',\n",
       "     'from_name': 'label',\n",
       "     'to_name': 'image',\n",
       "     'type': 'rectanglelabels',\n",
       "     'origin': 'manual'}],\n",
       "   'was_cancelled': False,\n",
       "   'ground_truth': False,\n",
       "   'created_at': '2023-11-09T07:56:58.821955Z',\n",
       "   'updated_at': '2023-11-09T07:56:58.822004Z',\n",
       "   'draft_created_at': '2023-11-08T12:40:04.847593Z',\n",
       "   'lead_time': 32.876,\n",
       "   'prediction': {},\n",
       "   'result_count': 0,\n",
       "   'unique_id': '8a7257a6-d118-41fe-a31e-62abeed35a14',\n",
       "   'import_id': None,\n",
       "   'last_action': None,\n",
       "   'task': 28,\n",
       "   'project': 2,\n",
       "   'updated_by': 1,\n",
       "   'parent_prediction': None,\n",
       "   'parent_annotation': None,\n",
       "   'last_created_by': None}],\n",
       " 'file_upload': '9587bfe0-1.jpg',\n",
       " 'drafts': [],\n",
       " 'predictions': [],\n",
       " 'data': {'image': '/data/upload/2/9587bfe0-1.jpg'},\n",
       " 'meta': {},\n",
       " 'created_at': '2023-11-08T12:39:27.032324Z',\n",
       " 'updated_at': '2023-11-09T07:56:58.938768Z',\n",
       " 'inner_id': 1,\n",
       " 'total_annotations': 1,\n",
       " 'cancelled_annotations': 0,\n",
       " 'total_predictions': 0,\n",
       " 'comment_count': 0,\n",
       " 'unresolved_comment_count': 0,\n",
       " 'last_comment_updated_at': None,\n",
       " 'project': 2,\n",
       " 'updated_by': 1,\n",
       " 'comment_authors': []}"
      ]
     },
     "execution_count": 2,
     "metadata": {},
     "output_type": "execute_result"
    }
   ],
   "source": [
    "with open ('labels_train.json', 'r', encoding='utf-8') as file:\n",
    "    labels = json.load(file)\n",
    "labels[0]"
   ]
  },
  {
   "cell_type": "code",
   "execution_count": 3,
   "metadata": {},
   "outputs": [
    {
     "data": {
      "text/plain": [
       "(606, 477)"
      ]
     },
     "execution_count": 3,
     "metadata": {},
     "output_type": "execute_result"
    }
   ],
   "source": [
    "# sprawdamy max_widht i max_height iterujemy po zdjeciach, \n",
    "# robimy carny padding symetryccznie i przesuawmy dla danego zdjecia ospowiednio o tyle bb\n",
    "max_height = 0\n",
    "max_width = 0\n",
    "\n",
    "for path in os.listdir('./photos/train/'):\n",
    "    img = Image.open(os.path.join('./photos/train/', path))\n",
    "    w, h = img.size\n",
    "    max_width = max(w, max_width)\n",
    "    max_height = max(h, max_height)\n",
    "\n",
    "max_height, max_width\n",
    "\n"
   ]
  },
  {
   "cell_type": "code",
   "execution_count": 4,
   "metadata": {},
   "outputs": [],
   "source": [
    "def add_margin(pil_img, top, right, bottom, left, color):\n",
    "    width, height = pil_img.size\n",
    "    new_width = width + right + left\n",
    "    new_height = height + top + bottom\n",
    "    result = Image.new(pil_img.mode, (new_width, new_height), color)\n",
    "    result.paste(pil_img, (left, top))\n",
    "    return result"
   ]
  },
  {
   "cell_type": "code",
   "execution_count": 5,
   "metadata": {},
   "outputs": [],
   "source": [
    "def find_dict_by_id(list_of_dicts, target_id):\n",
    "    for dictionary in list_of_dicts:\n",
    "        if 'id' in dictionary and dictionary['id'] == target_id:\n",
    "            return dictionary\n",
    "    return None"
   ]
  },
  {
   "cell_type": "code",
   "execution_count": 6,
   "metadata": {},
   "outputs": [],
   "source": [
    "compose = transforms.Compose([\n",
    "    transforms.PILToTensor(),\n",
    "    transforms.ConvertImageDtype(torch.float)\n",
    "])\n",
    "\n",
    "tensors_image = []\n",
    "boxes_list = []\n",
    "labels_list = []\n",
    "\n",
    "for path in os.listdir('./photos/train/'):\n",
    "    img = Image.open(os.path.join('./photos/train/', path))\n",
    "    w, h = img.size\n",
    "\n",
    "    img = add_margin(img, (max_height - h)//2, (max_width - w)//2, math.ceil((max_height - h)/2), math.ceil((max_width - w)/2), (0,0,0))\n",
    "    tensors_image.append(compose(img))\n",
    "\n",
    "    id_ = int(path.split('.')[0])\n",
    "    # id_ = 28\n",
    "    # print(id_)\n",
    "    label = find_dict_by_id(labels, id_)\n",
    "    coordinates = label['annotations'][0]['result'][0]['value']\n",
    "    # print(coordinates)\n",
    "    boxes_list.append([coordinates['x'] + (max_width - w)//2, \n",
    "                        coordinates['y'] + (max_height - h)//2, \n",
    "                        coordinates['x'] + (max_width - w)//2 + coordinates['width'],\n",
    "                        coordinates['y'] + (max_height - h)//2 + coordinates['height']])\n",
    "    labels_list.append(1)\n",
    "\n",
    "    # img.show()\n",
    "    # break\n",
    "# print(type(boxes_list))"
   ]
  },
  {
   "cell_type": "code",
   "execution_count": 7,
   "metadata": {},
   "outputs": [],
   "source": [
    "y_train_boxes = torch.tensor(boxes_list, dtype=torch.float)\n",
    "y_train_labels = torch.tensor(labels_list, dtype=torch.int64)\n",
    "\n",
    "y_train = {'boxes': y_train_boxes, 'labels': y_train_labels}\n",
    "x_train = tensors_image\n",
    "# type(y_train)\n",
    "# y_train.shape\n",
    "# iteruje po wszystkich sciezkach image.open(obraz) i potem compose(image) arr z tych tensowrow powstalych z compose\n",
    "# torch stack czy jakos tak"
   ]
  },
  {
   "cell_type": "code",
   "execution_count": 8,
   "metadata": {},
   "outputs": [
    {
     "name": "stderr",
     "output_type": "stream",
     "text": [
      "Downloading: \"https://download.pytorch.org/models/fasterrcnn_resnet50_fpn_coco-258fb6c6.pth\" to C:\\Users\\olcia/.cache\\torch\\hub\\checkpoints\\fasterrcnn_resnet50_fpn_coco-258fb6c6.pth\n",
      "100.0%\n"
     ]
    }
   ],
   "source": [
    "model = faster_rcnn(weights=d.FasterRCNN_ResNet50_FPN_Weights.DEFAULT)"
   ]
  },
  {
   "cell_type": "code",
   "execution_count": 57,
   "metadata": {},
   "outputs": [],
   "source": [
    "class ImageDataset(Dataset):\n",
    "    def __init__(self, images, labels):\n",
    "        self.images = images\n",
    "        self.labels = labels\n",
    "\n",
    "    def __len__(self):\n",
    "      return len(self.images)\n",
    "    \n",
    "    def __getitem__(self, idx):\n",
    "      return self.images[idx], {'boxes': self.labels['boxes'][idx], 'labels': self.labels['labels'][idx]}"
   ]
  },
  {
   "cell_type": "code",
   "execution_count": 58,
   "metadata": {},
   "outputs": [],
   "source": [
    "dataLoader = DataLoader(ImageDataset(x_train, y_train), batch_size=10)"
   ]
  },
  {
   "cell_type": "code",
   "execution_count": 59,
   "metadata": {},
   "outputs": [
    {
     "data": {
      "text/plain": [
       "tensor([ 24.7658, 135.6987,  41.7767, 146.1655])"
      ]
     },
     "execution_count": 59,
     "metadata": {},
     "output_type": "execute_result"
    }
   ],
   "source": [
    "y_train['boxes'][0]"
   ]
  },
  {
   "cell_type": "code",
   "execution_count": 72,
   "metadata": {},
   "outputs": [],
   "source": [
    "optimiser = Adam(model.parameters())\n",
    "device = torch.device('cuda') if torch.cuda.is_available() else torch.device('cpu')\n",
    "model = model.to(device)\n",
    "\n",
    "# torch.DataLoader - zwraca w bachach zdjecia i bb \n",
    "\n",
    "def train(model, optimiser, data, epochs=20):\n",
    "    loss_epoch_mean = []\n",
    "    for epoch in range(epochs):\n",
    "        loss_list = np.array([])\n",
    "        for x, y in data:\n",
    "            x = x.to(device)\n",
    "            optimiser.zero_grad()\n",
    "            y_list = []\n",
    "            a, _ = y['boxes'].shape\n",
    "            for i in range(a):\n",
    "                y_list.append({'boxes': y['boxes'][i].reshape(1, -1), 'labels': torch.tensor([1])})\n",
    "\n",
    "            print(y_list[0]['labels'].shape)\n",
    "            loss_dict = model(x, y_list)\n",
    "            losses = sum(loss for loss in loss_dict.values())\n",
    "            losses.backward()\n",
    "            optimiser.step()\n",
    "            loss_list = np.append(loss_list, losses.item())\n",
    "        epoch_mean = np.mean(loss_list)\n",
    "        loss_epoch_mean.append(epoch_mean)\n",
    "    return model, loss_epoch_mean"
   ]
  },
  {
   "cell_type": "code",
   "execution_count": 73,
   "metadata": {},
   "outputs": [
    {
     "name": "stdout",
     "output_type": "stream",
     "text": [
      "torch.Size([10])\n"
     ]
    }
   ],
   "source": [
    "model, loss_epoch_mean = train(model, optimiser, dataLoader, 20)"
   ]
  },
  {
   "cell_type": "code",
   "execution_count": null,
   "metadata": {},
   "outputs": [
    {
     "data": {
      "text/plain": [
       "torchvision.models.detection.faster_rcnn.FasterRCNN"
      ]
     },
     "execution_count": 16,
     "metadata": {},
     "output_type": "execute_result"
    }
   ],
   "source": [
    "type(model)"
   ]
  },
  {
   "cell_type": "code",
   "execution_count": null,
   "metadata": {},
   "outputs": [],
   "source": [
    "with open('model.p', 'wb') as f:\n",
    "  pickle.dump(model, f)"
   ]
  }
 ],
 "metadata": {
  "kernelspec": {
   "display_name": "praca-inzynierska",
   "language": "python",
   "name": "python3"
  },
  "language_info": {
   "codemirror_mode": {
    "name": "ipython",
    "version": 3
   },
   "file_extension": ".py",
   "mimetype": "text/x-python",
   "name": "python",
   "nbconvert_exporter": "python",
   "pygments_lexer": "ipython3",
   "version": "3.8.10"
  },
  "orig_nbformat": 4
 },
 "nbformat": 4,
 "nbformat_minor": 2
}
