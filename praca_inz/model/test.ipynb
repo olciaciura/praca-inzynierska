{
 "cells": [
  {
   "cell_type": "code",
   "execution_count": null,
   "metadata": {},
   "outputs": [],
   "source": [
    "from PIL import Image\n",
    "from PIL import ImageDraw\n",
    "import os\n",
    "\n",
    "img = Image.open(os.path.join('./photos/train', '77.jpg'))\n",
    "\n",
    "draw = ImageDraw.Draw(img)\n",
    "draw.rectangle((300, 160, 350, 240), outline='red', width=2)\n",
    "img.show()"
   ]
  }
 ],
 "metadata": {
  "language_info": {
   "name": "python"
  }
 },
 "nbformat": 4,
 "nbformat_minor": 2
}
