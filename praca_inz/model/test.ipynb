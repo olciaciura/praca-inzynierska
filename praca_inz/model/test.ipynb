{
 "cells": [
  {
   "cell_type": "code",
   "execution_count": 10,
   "metadata": {},
   "outputs": [],
   "source": [
    "from utils import load_model, predict\n",
    "model = load_model('model_maly.p')"
   ]
  },
  {
   "cell_type": "code",
   "execution_count": 21,
   "metadata": {},
   "outputs": [
    {
     "name": "stdout",
     "output_type": "stream",
     "text": [
      "1 -1\n",
      "[{'boxes': tensor([], device='cuda:0', size=(0, 4)), 'labels': tensor([], device='cuda:0', dtype=torch.int64), 'scores': tensor([], device='cuda:0')}]\n",
      "tensor([], device='cuda:0')\n"
     ]
    },
    {
     "ename": "IndexError",
     "evalue": "index 0 is out of bounds for dimension 0 with size 0",
     "output_type": "error",
     "traceback": [
      "\u001b[1;31m---------------------------------------------------------------------------\u001b[0m",
      "\u001b[1;31mIndexError\u001b[0m                                Traceback (most recent call last)",
      "\u001b[1;32md:\\HDD\\OLa_inz\\praca-inzynierska\\praca_inz\\model\\test.ipynb Cell 2\u001b[0m line \u001b[0;36m1\n\u001b[1;32m----> <a href='vscode-notebook-cell:/d%3A/HDD/OLa_inz/praca-inzynierska/praca_inz/model/test.ipynb#W2sZmlsZQ%3D%3D?line=0'>1</a>\u001b[0m coordinates \u001b[39m=\u001b[39m predict(model, \u001b[39m'\u001b[39;49m\u001b[39m./photos/train/115.jpg\u001b[39;49m\u001b[39m'\u001b[39;49m)\n",
      "File \u001b[1;32md:\\HDD\\OLa_inz\\praca-inzynierska\\praca_inz\\model\\utils.py:53\u001b[0m, in \u001b[0;36mpredict\u001b[1;34m(model, path_to_image)\u001b[0m\n\u001b[0;32m     51\u001b[0m \u001b[39m# best_score_id = torch.argmax(scores_tensor)\u001b[39;00m\n\u001b[0;32m     52\u001b[0m best_score_id \u001b[39m=\u001b[39m \u001b[39m0\u001b[39m\n\u001b[1;32m---> 53\u001b[0m bb \u001b[39m=\u001b[39m prediction[\u001b[39m0\u001b[39;49m][\u001b[39m'\u001b[39;49m\u001b[39mboxes\u001b[39;49m\u001b[39m'\u001b[39;49m][best_score_id]\n\u001b[0;32m     54\u001b[0m coordinates \u001b[39m=\u001b[39m { \u001b[39m'\u001b[39m\u001b[39mleft\u001b[39m\u001b[39m'\u001b[39m:     bb[\u001b[39m0\u001b[39m] \u001b[39m-\u001b[39m left_margin,\n\u001b[0;32m     55\u001b[0m                 \u001b[39m'\u001b[39m\u001b[39mright\u001b[39m\u001b[39m'\u001b[39m:    bb[\u001b[39m2\u001b[39m] \u001b[39m-\u001b[39m left_margin,\n\u001b[0;32m     56\u001b[0m                 \u001b[39m'\u001b[39m\u001b[39mbottom\u001b[39m\u001b[39m'\u001b[39m:   bb[\u001b[39m3\u001b[39m] \u001b[39m-\u001b[39m top_margin,\n\u001b[0;32m     57\u001b[0m                 \u001b[39m'\u001b[39m\u001b[39mtop\u001b[39m\u001b[39m'\u001b[39m:      bb[\u001b[39m1\u001b[39m] \u001b[39m-\u001b[39m top_margin}\n\u001b[0;32m     59\u001b[0m \u001b[39mreturn\u001b[39;00m coordinates\n",
      "\u001b[1;31mIndexError\u001b[0m: index 0 is out of bounds for dimension 0 with size 0"
     ]
    }
   ],
   "source": [
    "coordinates = predict(model, './photos/train/115.jpg')"
   ]
  },
  {
   "cell_type": "code",
   "execution_count": 18,
   "metadata": {},
   "outputs": [
    {
     "data": {
      "text/plain": [
       "{'left': tensor(70.2946, device='cuda:0'),\n",
       " 'right': tensor(126.2023, device='cuda:0'),\n",
       " 'bottom': tensor(120.4868, device='cuda:0'),\n",
       " 'top': tensor(45.2476, device='cuda:0')}"
      ]
     },
     "execution_count": 18,
     "metadata": {},
     "output_type": "execute_result"
    }
   ],
   "source": [
    "coordinates"
   ]
  },
  {
   "cell_type": "code",
   "execution_count": 20,
   "metadata": {},
   "outputs": [
    {
     "name": "stdout",
     "output_type": "stream",
     "text": [
      "(227, 223)\n"
     ]
    }
   ],
   "source": [
    "from PIL import Image, ImageDraw\n",
    "\n",
    "# Ścieżka do obrazka\n",
    "image_path = \"./photos/train/116.jpg\"  # Zmień na właściwą ścieżkę\n",
    "\n",
    "# Wczytaj obrazek\n",
    "image = Image.open(image_path)\n",
    "# image.transpose(method=)\n",
    "coordinates = ( 70.2946, 45.2476, 126.2023, 120.4868)\n",
    "print(image.size)\n",
    "# Stwórz obiekt do rysowania na obrazku\n",
    "draw = ImageDraw.Draw(image)\n",
    "\n",
    "# Narysuj kwadrat\n",
    "draw.rectangle(coordinates, outline=\"red\", width=2)\n",
    "\n",
    "# Wyświetl obrazek\n",
    "image.show()"
   ]
  },
  {
   "cell_type": "code",
   "execution_count": null,
   "metadata": {},
   "outputs": [],
   "source": []
  }
 ],
 "metadata": {
  "kernelspec": {
   "display_name": "venv",
   "language": "python",
   "name": "python3"
  },
  "language_info": {
   "codemirror_mode": {
    "name": "ipython",
    "version": 3
   },
   "file_extension": ".py",
   "mimetype": "text/x-python",
   "name": "python",
   "nbconvert_exporter": "python",
   "pygments_lexer": "ipython3",
   "version": "3.10.8"
  }
 },
 "nbformat": 4,
 "nbformat_minor": 2
}
